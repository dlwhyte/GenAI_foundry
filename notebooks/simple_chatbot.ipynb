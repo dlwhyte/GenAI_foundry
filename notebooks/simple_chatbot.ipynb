{
  "nbformat": 4,
  "nbformat_minor": 0,
  "metadata": {
    "colab": {
      "provenance": []
    },
    "kernelspec": {
      "name": "python3",
      "display_name": "Python 3"
    },
    "language_info": {
      "name": "python"
    }
  },
  "cells": [
    {
      "cell_type": "markdown",
      "source": [
        "* `openai`: This library provides the functions to interact with the OpenAI API.\n",
        "* `getpass`: This library is used to securely get the API key from the user without displaying it on the screen.\n",
        "\n",
        "### Setting the API Key\n"
      ],
      "metadata": {
        "id": "-GdYziOnYxJh"
      }
    },
    {
      "cell_type": "markdown",
      "source": [
        "### ss"
      ],
      "metadata": {
        "id": "TGzBbzBtY6-8"
      }
    },
    {
      "cell_type": "code",
      "execution_count": null,
      "metadata": {
        "colab": {
          "base_uri": "https://localhost:8080/",
          "height": 567
        },
        "id": "51Fn9g8JUNcU",
        "outputId": "390cc683-4d29-4705-82ec-a523dc9d04d7"
      },
      "outputs": [
        {
          "output_type": "stream",
          "name": "stdout",
          "text": [
            "Enter your OpenAI API key: ··········\n",
            "Ask ChatGPT a question (or press enter to exit): What color is the sky?\n",
            "\n",
            "💬 ChatGPT says:\n",
            "The color of the sky can vary depending on the time of day, weather conditions, and location. During the day, the sky is typically blue, but it can also appear gray, pink, orange, or red during sunrise and sunset. At night, the sky can be dark blue, black, or various shades of purple.\n",
            "--------------------\n",
            "Ask ChatGPT a question (or press enter to exit): How did the first world war start?\n",
            "\n",
            "💬 ChatGPT says:\n",
            "The First World War began on July 28, 1914, when Austria-Hungary declared war on Serbia in response to the assassination of Archduke Franz Ferdinand of Austria-Hungary by a Serbian nationalist. This event triggered a series of alliances and treaties that led to a chain reaction of declarations of war between countries across Europe. The conflict quickly escalated into a global conflict involving the major powers of the time, including Germany, Russia, France, and the United Kingdom.\n",
            "--------------------\n"
          ]
        },
        {
          "output_type": "error",
          "ename": "KeyboardInterrupt",
          "evalue": "Interrupted by user",
          "traceback": [
            "\u001b[0;31m---------------------------------------------------------------------------\u001b[0m",
            "\u001b[0;31mKeyboardInterrupt\u001b[0m                         Traceback (most recent call last)",
            "\u001b[0;32m<ipython-input-5-742d4028da3a>\u001b[0m in \u001b[0;36m<cell line: 0>\u001b[0;34m()\u001b[0m\n\u001b[1;32m     22\u001b[0m \u001b[0;31m# Main loop to ask questions until user hits enter\u001b[0m\u001b[0;34m\u001b[0m\u001b[0;34m\u001b[0m\u001b[0m\n\u001b[1;32m     23\u001b[0m \u001b[0;32mwhile\u001b[0m \u001b[0;32mTrue\u001b[0m\u001b[0;34m:\u001b[0m\u001b[0;34m\u001b[0m\u001b[0;34m\u001b[0m\u001b[0m\n\u001b[0;32m---> 24\u001b[0;31m     \u001b[0muser_question\u001b[0m \u001b[0;34m=\u001b[0m \u001b[0minput\u001b[0m\u001b[0;34m(\u001b[0m\u001b[0;34m\"Ask ChatGPT a question (or press enter to exit): \"\u001b[0m\u001b[0;34m)\u001b[0m\u001b[0;34m\u001b[0m\u001b[0;34m\u001b[0m\u001b[0m\n\u001b[0m\u001b[1;32m     25\u001b[0m \u001b[0;34m\u001b[0m\u001b[0m\n\u001b[1;32m     26\u001b[0m     \u001b[0;31m# Break the loop if the user input is empty\u001b[0m\u001b[0;34m\u001b[0m\u001b[0;34m\u001b[0m\u001b[0m\n",
            "\u001b[0;32m/usr/local/lib/python3.11/dist-packages/ipykernel/kernelbase.py\u001b[0m in \u001b[0;36mraw_input\u001b[0;34m(self, prompt)\u001b[0m\n\u001b[1;32m   1175\u001b[0m                 \u001b[0;34m\"raw_input was called, but this frontend does not support input requests.\"\u001b[0m\u001b[0;34m\u001b[0m\u001b[0;34m\u001b[0m\u001b[0m\n\u001b[1;32m   1176\u001b[0m             )\n\u001b[0;32m-> 1177\u001b[0;31m         return self._input_request(\n\u001b[0m\u001b[1;32m   1178\u001b[0m             \u001b[0mstr\u001b[0m\u001b[0;34m(\u001b[0m\u001b[0mprompt\u001b[0m\u001b[0;34m)\u001b[0m\u001b[0;34m,\u001b[0m\u001b[0;34m\u001b[0m\u001b[0;34m\u001b[0m\u001b[0m\n\u001b[1;32m   1179\u001b[0m             \u001b[0mself\u001b[0m\u001b[0;34m.\u001b[0m\u001b[0m_parent_ident\u001b[0m\u001b[0;34m[\u001b[0m\u001b[0;34m\"shell\"\u001b[0m\u001b[0;34m]\u001b[0m\u001b[0;34m,\u001b[0m\u001b[0;34m\u001b[0m\u001b[0;34m\u001b[0m\u001b[0m\n",
            "\u001b[0;32m/usr/local/lib/python3.11/dist-packages/ipykernel/kernelbase.py\u001b[0m in \u001b[0;36m_input_request\u001b[0;34m(self, prompt, ident, parent, password)\u001b[0m\n\u001b[1;32m   1217\u001b[0m             \u001b[0;32mexcept\u001b[0m \u001b[0mKeyboardInterrupt\u001b[0m\u001b[0;34m:\u001b[0m\u001b[0;34m\u001b[0m\u001b[0;34m\u001b[0m\u001b[0m\n\u001b[1;32m   1218\u001b[0m                 \u001b[0;31m# re-raise KeyboardInterrupt, to truncate traceback\u001b[0m\u001b[0;34m\u001b[0m\u001b[0;34m\u001b[0m\u001b[0m\n\u001b[0;32m-> 1219\u001b[0;31m                 \u001b[0;32mraise\u001b[0m \u001b[0mKeyboardInterrupt\u001b[0m\u001b[0;34m(\u001b[0m\u001b[0;34m\"Interrupted by user\"\u001b[0m\u001b[0;34m)\u001b[0m \u001b[0;32mfrom\u001b[0m \u001b[0;32mNone\u001b[0m\u001b[0;34m\u001b[0m\u001b[0;34m\u001b[0m\u001b[0m\n\u001b[0m\u001b[1;32m   1220\u001b[0m             \u001b[0;32mexcept\u001b[0m \u001b[0mException\u001b[0m\u001b[0;34m:\u001b[0m\u001b[0;34m\u001b[0m\u001b[0;34m\u001b[0m\u001b[0m\n\u001b[1;32m   1221\u001b[0m                 \u001b[0mself\u001b[0m\u001b[0;34m.\u001b[0m\u001b[0mlog\u001b[0m\u001b[0;34m.\u001b[0m\u001b[0mwarning\u001b[0m\u001b[0;34m(\u001b[0m\u001b[0;34m\"Invalid Message:\"\u001b[0m\u001b[0;34m,\u001b[0m \u001b[0mexc_info\u001b[0m\u001b[0;34m=\u001b[0m\u001b[0;32mTrue\u001b[0m\u001b[0;34m)\u001b[0m\u001b[0;34m\u001b[0m\u001b[0;34m\u001b[0m\u001b[0m\n",
            "\u001b[0;31mKeyboardInterrupt\u001b[0m: Interrupted by user"
          ]
        }
      ],
      "source": [
        "# Install latest OpenAI library\n",
        "!pip install openai --upgrade --quiet\n",
        "\n",
        "# Import modules\n",
        "import openai\n",
        "import getpass\n",
        "\n",
        "\n",
        "# Masked API key input\n",
        "api_key = getpass.getpass(\"Enter your OpenAI API key: \")\n",
        "\n",
        "# You can set the api_key directly during client instantiation:\n",
        "client = openai.OpenAI(api_key=api_key)\n",
        "\n",
        "# Function to ask a question\n",
        "def ask_chatgpt(question):\n",
        "    response = client.chat.completions.create(\n",
        "        model=\"gpt-3.5-turbo\",  # or \"gpt-4\"\n",
        "        messages=[{\"role\": \"user\", \"content\": question}]\n",
        "    )\n",
        "    return response.choices[0].message.content\n",
        "\n",
        "# Main loop to ask questions until user hits enter\n",
        "while True:\n",
        "    user_question = input(\"Ask ChatGPT a question (or press enter to exit): \")\n",
        "\n",
        "    # Break the loop if the user input is empty\n",
        "    if not user_question:\n",
        "        break\n",
        "\n",
        "    answer = ask_chatgpt(user_question)\n",
        "    print(\"\\n💬 ChatGPT says:\")\n",
        "    print(answer)\n",
        "    print(\"-\" * 20)  # Print a separator between questions"
      ]
    }
  ]
}
