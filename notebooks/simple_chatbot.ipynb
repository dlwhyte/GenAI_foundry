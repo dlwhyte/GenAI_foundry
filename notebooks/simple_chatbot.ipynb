{
  "nbformat": 4,
  "nbformat_minor": 0,
  "metadata": {
    "colab": {
      "provenance": []
    },
    "kernelspec": {
      "name": "python3",
      "display_name": "Python 3"
    },
    "language_info": {
      "name": "python"
    }
  },
  "cells": [
    {
      "cell_type": "markdown",
      "source": [
        "# 🚀 Welcome to the Simple OpenAI Chatbot!\n",
        "\n",
        "This notebook allows you to interact with ChatGPT using your own API key.\n",
        "\n",
        "✅ No advanced setup required.  \n",
        "✅ Works with free or paid OpenAI accounts.\n",
        "\n",
        "---\n",
        "## 🛠 How to Get an OpenAI API Key\n",
        "1. Go to [https://platform.openai.com/signup](https://platform.openai.com/signup)\n",
        "2. Sign up for a free or paid account.\n",
        "3. Go to the \"API Keys\" section.\n",
        "4. Click \"Create New Secret Key\" and **copy it** safely (you'll need it below!).\n",
        "---"
      ],
      "metadata": {
        "id": "qZ1l60tSYjeU"
      }
    },
    {
      "cell_type": "code",
      "execution_count": null,
      "metadata": {
        "id": "qCabgmr4Yhj9"
      },
      "outputs": [],
      "source": [
        "# Install the latest version of the OpenAI library\n",
        "# pip, the Python package installer, to install the openai library.\n",
        "# This library provides the tools we need to talk to OpenAI's models like ChatGPT.\n",
        "# --upgrade makes sure we get the latest version, and --quiet prevents it from printing too much information during installation.\n",
        "\n",
        "!pip install openai --upgrade --quiet"
      ]
    },
    {
      "cell_type": "code",
      "source": [
        "# Import required necessary libraries\n",
        "# openai: This is the main library we'll use to interact with the OpenAI API.\n",
        "# getpass: This helps us securely get your API key without displaying it on the screen.\n",
        "\n",
        "import openai  # Main library to interact with OpenAI API\n",
        "import getpass # To securely mask your API key when entering"
      ],
      "metadata": {
        "id": "7Be6aMdIY-Kd"
      },
      "execution_count": null,
      "outputs": []
    },
    {
      "cell_type": "code",
      "source": [
        "# Prompt the user to securely enter their API key\n",
        "# The getpass.getpass() function is used to hide the API key\n",
        "# as the user types it, preventing it from being displayed on the screen.\n",
        "\n",
        "api_key = getpass.getpass(\"🔐 Enter your OpenAI API key: \")\n",
        "\n",
        "# Create a client instance using the provided API key.\n",
        "# This client object will be used to make requests to the OpenAI API.\n",
        "# It's initialized with the user's API key for authentication.\n",
        "client = openai.OpenAI(api_key=api_key)"
      ],
      "metadata": {
        "colab": {
          "base_uri": "https://localhost:8080/"
        },
        "id": "GgbFR30HZEa6",
        "outputId": "55762bfa-7fd4-43a7-9cef-77efa5f13cd5"
      },
      "execution_count": null,
      "outputs": [
        {
          "name": "stdout",
          "output_type": "stream",
          "text": [
            "🔐 Enter your OpenAI API key: ··········\n"
          ]
        }
      ]
    },
    {
      "cell_type": "code",
      "source": [
        "# Define a function that sends your question to ChatGPT and returns the response\n",
        "def ask_chatgpt(question):\n",
        "  # Uses the OpenAI client to create a chat completion.\n",
        "  # This sends the 'question' to the specified model and gets a response.\n",
        "    response = client.chat.completions.create(\n",
        "        model=\"gpt-3.5-turbo\",  # You can change to \"gpt-4\" if you have access\n",
        "        messages=[{\"role\": \"user\", \"content\": question}]\n",
        "    )\n",
        "    # Extracts the chatbot's reply from the response.\n",
        "    # It assumes the first choice in the response contains the main answer.\n",
        "    return response.choices[0].message.content"
      ],
      "metadata": {
        "id": "T7x-vWrlbnHd"
      },
      "execution_count": null,
      "outputs": []
    },
    {
      "cell_type": "code",
      "source": [
        "# Main interactive loop: ask questions until the user presses Enter\n",
        "while True:\n",
        "    user_question = input(\"💬 Ask ChatGPT a question (or press Enter to exit): \")\n",
        "\n",
        "    # Exit loop if user presses Enter without typing a question\n",
        "    if not user_question:\n",
        "        print(\"👋 Goodbye!\")\n",
        "        break\n",
        "\n",
        "    # Get the chatbot's answer and print it\n",
        "    answer = ask_chatgpt(user_question)\n",
        "    print(\"\\n🤖 ChatGPT says:\")\n",
        "    print(answer)\n",
        "    print(\"-\" * 20)  # A line separator for readability"
      ],
      "metadata": {
        "id": "m6P3VOLqb04q"
      },
      "execution_count": null,
      "outputs": []
    }
  ]
}