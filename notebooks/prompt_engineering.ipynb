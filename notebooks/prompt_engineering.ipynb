{
  "nbformat": 4,
  "nbformat_minor": 0,
  "metadata": {
    "colab": {
      "provenance": []
    },
    "kernelspec": {
      "name": "python3",
      "display_name": "Python 3"
    },
    "language_info": {
      "name": "python"
    }
  },
  "cells": [
    {
      "cell_type": "markdown",
      "source": [
        "# 🚀 Welcome to the Prompt Engneering Basics\n",
        "\n",
        "This interactive Google Colab notebook allows you to interact with ChatGPT using your own API key.\n",
        "\n",
        "✅ No advanced setup required.  \n",
        "✅ Works with free or paid OpenAI accounts.\n",
        "\n",
        "🔧 You will need to get an OpenAI API key.\n"
      ],
      "metadata": {
        "id": "Nx5h33pv8X3h"
      }
    },
    {
      "cell_type": "code",
      "execution_count": null,
      "metadata": {
        "colab": {
          "base_uri": "https://localhost:8080/"
        },
        "id": "Ezt3B02GhU9i",
        "outputId": "34aed63a-d49e-427b-fa11-f6583ef77891"
      },
      "outputs": [
        {
          "output_type": "stream",
          "name": "stdout",
          "text": [
            "🔐 Enter your OpenAI API key: ··········\n",
            "📝 Prompt 1: Summarize the following: The Earth revolves around the Sun, and this motion causes seasons to change due to the axial tilt.\n",
            "\n",
            "🧠 Output 1:\n",
            "The Earth's revolution around the Sun, combined with its axial tilt, leads to the changing of the seasons.\n",
            "------------------------------------------------------------\n",
            "\n",
            "📝 Prompt 2: Please provide a summary of this content: The Earth revolves around the Sun, and this motion causes seasons to change due to the axial tilt.\n",
            "\n",
            "🧠 Output 2:\n",
            "The Earth orbits the Sun, and this movement, combined with the planet's axial tilt, results in the changing of seasons.\n",
            "------------------------------------------------------------\n",
            "\n",
            "📝 Prompt 3: TL;DR: The Earth revolves around the Sun, and this motion causes seasons to change due to the axial tilt.\n",
            "\n",
            "🧠 Output 3:\n",
            "The Earth revolves around the Sun, and this motion, combined with the planet's axial tilt, causes the changing of seasons throughout the year.\n",
            "------------------------------------------------------------\n",
            "\n",
            "📝 Prompt 4: In simple terms, what is the meaning of this? The Earth revolves around the Sun, and this motion causes seasons to change due to the axial tilt.\n",
            "\n",
            "🧠 Output 4:\n",
            "In simple terms, the Earth moves in a path around the Sun. Because the Earth is tilted on its axis, different parts of the Earth get more or less sunlight at different times of the year. This change in sunlight causes the seasons to change. For example, when the Northern Hemisphere tilts toward the Sun, it experiences summer, while the Southern Hemisphere, which tilts away, experiences winter.\n",
            "------------------------------------------------------------\n",
            "\n",
            "📝 Prompt 5: Explain like I’m 5: The Earth revolves around the Sun, and this motion causes seasons to change due to the axial tilt.\n",
            "\n",
            "🧠 Output 5:\n",
            "Okay! Imagine the Earth is like a big ball that dances around a bright light, which is the Sun. As the Earth moves in a circle around the Sun, it also tilts a little to one side, like when you lean to one side while you spin. \n",
            "\n",
            "Because of this tilt, sometimes the top part of the Earth gets more sunlight and is warm, which makes it summer there.\n",
            "------------------------------------------------------------\n",
            "\n"
          ]
        }
      ],
      "source": [
        "# Goal: Show how different prompt styles impact language model output\n",
        "\n",
        "# Step 1: Install OpenAI SDK\n",
        "!pip install --upgrade openai > /dev/null 2>&1\n",
        "\n",
        "# Step 2: Import and securely collect API key\n",
        "from getpass import getpass\n",
        "import openai\n",
        "\n",
        "openai.api_key = getpass(\"🔐 Enter your OpenAI API key: \")\n",
        "\n",
        "# Step 3: Define a simple completion function\n",
        "def complete_prompt(prompt, model=\"gpt-4o-mini\", temperature=0.7, max_tokens=100):\n",
        "    \"\"\"Send a prompt to OpenAI ChatCompletion API and return the result.\"\"\"\n",
        "    try:\n",
        "        response = openai.chat.completions.create(\n",
        "            model=model,\n",
        "            messages=[{\"role\": \"user\", \"content\": prompt}],\n",
        "            temperature=temperature,\n",
        "            max_tokens=max_tokens\n",
        "        )\n",
        "        return response.choices[0].message.content.strip()\n",
        "    except Exception as e:\n",
        "        return f\"❗ Error: {str(e)}\"\n",
        "\n",
        "# Step 4: Define variations of the same prompt to explore prompt engineering\n",
        "prompts = [\n",
        "    \"Summarize the following: The Earth revolves around the Sun, and this motion causes seasons to change due to the axial tilt.\",\n",
        "    \"Please provide a summary of this content: The Earth revolves around the Sun, and this motion causes seasons to change due to the axial tilt.\",\n",
        "    \"TL;DR: The Earth revolves around the Sun, and this motion causes seasons to change due to the axial tilt.\",\n",
        "    \"In simple terms, what is the meaning of this? The Earth revolves around the Sun, and this motion causes seasons to change due to the axial tilt.\",\n",
        "    \"Explain like I’m 5: The Earth revolves around the Sun, and this motion causes seasons to change due to the axial tilt.\"\n",
        "]\n",
        "\n",
        "# Step 5: Loop through the prompts and display outputs\n",
        "for i, prompt in enumerate(prompts, 1):\n",
        "    print(f\"📝 Prompt {i}: {prompt}\\n\")\n",
        "    output = complete_prompt(prompt, temperature=0.7, max_tokens=80)\n",
        "    print(f\"🧠 Output {i}:\\n{output}\\n{'-'*60}\\n\")"
      ]
    }
  ]
}