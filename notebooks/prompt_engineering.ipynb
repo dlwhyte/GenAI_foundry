{
  "nbformat": 4,
  "nbformat_minor": 0,
  "metadata": {
    "colab": {
      "provenance": []
    },
    "kernelspec": {
      "name": "python3",
      "display_name": "Python 3"
    },
    "language_info": {
      "name": "python"
    }
  },
  "cells": [
    {
      "cell_type": "markdown",
      "source": [
        "# 🚀 Welcome to the Prompt Engneering Basics\n",
        "\n",
        "This interactive Google Colab notebook allows you to interact with ChatGPT using your own API key.\n",
        "\n",
        "✅ No advanced setup required.  \n",
        "✅ Works with free or paid OpenAI accounts.\n",
        "\n",
        "🔧 You will need to get an OpenAI API key.\n"
      ],
      "metadata": {
        "id": "Nx5h33pv8X3h"
      }
    },
    {
      "cell_type": "code",
      "execution_count": null,
      "metadata": {
        "id": "Ezt3B02GhU9i"
      },
      "outputs": [],
      "source": [
        "# Goal: Show how different prompt styles impact language model output\n",
        "\n",
        "# Step 1: Install OpenAI SDK\n",
        "!pip install --upgrade openai > /dev/null 2>&1\n",
        "\n",
        "# Step 2: Import and securely collect API key\n",
        "from getpass import getpass\n",
        "import openai\n",
        "\n",
        "openai.api_key = getpass(\"🔐 Enter your OpenAI API key: \")\n",
        "\n",
        "# Step 3: Define a simple completion function\n",
        "def complete_prompt(prompt, model=\"gpt-4o-mini\", temperature=0.7, max_tokens=100):\n",
        "    \"\"\"Send a prompt to OpenAI ChatCompletion API and return the result.\"\"\"\n",
        "    try:\n",
        "        response = openai.chat.completions.create(\n",
        "            model=model,\n",
        "            messages=[{\"role\": \"user\", \"content\": prompt}],\n",
        "            temperature=temperature,\n",
        "            max_tokens=max_tokens\n",
        "        )\n",
        "        return response.choices[0].message.content.strip()\n",
        "    except Exception as e:\n",
        "        return f\"❗ Error: {str(e)}\"\n",
        "\n",
        "# Step 4: Define variations of the same prompt to explore prompt engineering\n",
        "prompts = [\n",
        "    \"Summarize the following: The Earth revolves around the Sun, and this motion causes seasons to change due to the axial tilt.\",\n",
        "    \"Please provide a summary of this content: The Earth revolves around the Sun, and this motion causes seasons to change due to the axial tilt.\",\n",
        "    \"TL;DR: The Earth revolves around the Sun, and this motion causes seasons to change due to the axial tilt.\",\n",
        "    \"In simple terms, what is the meaning of this? The Earth revolves around the Sun, and this motion causes seasons to change due to the axial tilt.\",\n",
        "    \"Explain like I’m 5: The Earth revolves around the Sun, and this motion causes seasons to change due to the axial tilt.\"\n",
        "]\n",
        "\n",
        "# Step 5: Loop through the prompts and display outputs\n",
        "for i, prompt in enumerate(prompts, 1):\n",
        "    print(f\"📝 Prompt {i}: {prompt}\\n\")\n",
        "    output = complete_prompt(prompt, temperature=0.7, max_tokens=80)\n",
        "    print(f\"🧠 Output {i}:\\n{output}\\n{'-'*60}\\n\")"
      ]
    }
  ]
}